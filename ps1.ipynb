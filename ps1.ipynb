{
 "cells": [
  {
   "cell_type": "markdown",
   "metadata": {},
   "source": [
    "Luvuyo Magwaza"
   ]
  },
  {
   "cell_type": "markdown",
   "metadata": {},
   "source": [
    "# Instructions\n",
    "\n",
    "* Change \"Your Name Here\" to your name.\n",
    "* Fill in the empty chunks with your code. \n",
    "* Do not add any code chunks in your final submission besides the ones already here. \n",
    "* Use **no** additional modules. "
   ]
  },
  {
   "cell_type": "markdown",
   "metadata": {},
   "source": [
    "# Question 1\n",
    "\n",
    "Create a list called `x_values` that contains the first twenty integers in steps of 2."
   ]
  },
  {
   "cell_type": "code",
   "execution_count": 12,
   "metadata": {},
   "outputs": [],
   "source": [
    "import numpy as np"
   ]
  },
  {
   "cell_type": "code",
   "execution_count": 27,
   "metadata": {},
   "outputs": [
    {
     "name": "stdout",
     "output_type": "stream",
     "text": [
      "[0, 2, 4, 6, 8, 10, 12, 14, 16, 18]\n"
     ]
    }
   ],
   "source": [
    "# create x_values\n",
    "x_values = [*range(0,20,2)] # create the list. Used the \"*\" to unpack the list so I could see all of the numbers in the list \n",
    "\n",
    "print(x_values)\n",
    " \n"
   ]
  },
  {
   "cell_type": "markdown",
   "metadata": {},
   "source": [
    "# Question 2\n",
    "\n",
    "Write three loops that cubes each element of `X`:\n",
    "\n",
    "1. using explicit indexing\n",
    "2. using implicit indexing\n",
    "3. using list comprehension"
   ]
  },
  {
   "cell_type": "markdown",
   "metadata": {},
   "source": [
    "## Explicit Indexing"
   ]
  },
  {
   "cell_type": "code",
   "execution_count": 47,
   "metadata": {},
   "outputs": [
    {
     "name": "stdout",
     "output_type": "stream",
     "text": [
      "0\n",
      "8\n",
      "64\n",
      "216\n",
      "512\n",
      "1000\n",
      "1728\n",
      "2744\n",
      "4096\n",
      "5832\n"
     ]
    }
   ],
   "source": [
    "# explicit indexing\n",
    "for x in range(len(x_values)): # first come the loop syntax and then comes print for each xth element\n",
    "    print(x_values[x]**3)"
   ]
  },
  {
   "cell_type": "markdown",
   "metadata": {},
   "source": [
    "## Implicit Indexing"
   ]
  },
  {
   "cell_type": "code",
   "execution_count": 46,
   "metadata": {},
   "outputs": [
    {
     "name": "stdout",
     "output_type": "stream",
     "text": [
      "0\n",
      "8\n",
      "64\n",
      "216\n",
      "512\n",
      "1000\n",
      "1728\n",
      "2744\n",
      "4096\n",
      "5832\n"
     ]
    }
   ],
   "source": [
    "# implicit indexing\n",
    "for x in x_values: # similar to the explicit indexing, loop syntax first and then use print to manipulate the list\n",
    "    print(x**3)\n",
    "    "
   ]
  },
  {
   "cell_type": "markdown",
   "metadata": {},
   "source": [
    "## List Comprehension"
   ]
  },
  {
   "cell_type": "code",
   "execution_count": 28,
   "metadata": {},
   "outputs": [
    {
     "data": {
      "text/plain": [
       "[0, 8, 64, 216, 512, 1000, 1728, 2744, 4096, 5832]"
      ]
     },
     "execution_count": 28,
     "metadata": {},
     "output_type": "execute_result"
    }
   ],
   "source": [
    "# list comprehension\n",
    "[x**3 for x in x_values] # function first then usual loop syntax. ie, implicit and list comprehension are similar. \n",
    "    "
   ]
  },
  {
   "cell_type": "markdown",
   "metadata": {},
   "source": [
    "# Question 3\n",
    "\n",
    "Write a function called `sum(X)` that sums the elements of a list. Test it on `x_values`.\n",
    "\n",
    "**Hint:** define a variable equal to zero that increments as you loop through the list. "
   ]
  },
  {
   "cell_type": "code",
   "execution_count": 48,
   "metadata": {},
   "outputs": [],
   "source": [
    "# write the function sum(X)\n",
    "def sum(X):\n",
    "    total  = 0 \n",
    "    for i in X:\n",
    "        total+= i\n",
    "    return(total)\n",
    "        \n",
    "        \n",
    "    "
   ]
  },
  {
   "cell_type": "code",
   "execution_count": 49,
   "metadata": {},
   "outputs": [
    {
     "data": {
      "text/plain": [
       "90"
      ]
     },
     "execution_count": 49,
     "metadata": {},
     "output_type": "execute_result"
    }
   ],
   "source": [
    "# test your function on x_values\n",
    "sum(x_values)"
   ]
  },
  {
   "cell_type": "markdown",
   "metadata": {},
   "source": [
    "# Question 4\n",
    "\n",
    "Write a function called `mean(X)` that calculates the mean of a list. \n",
    "\n",
    "Recall the mean:\n",
    "\n",
    "$$\n",
    "\\bar{x} = \\frac{1}{n} \\sum_{i=1}^n x_i\n",
    "$$\n",
    "\n",
    "**Hint:** you already have a function that sums a list. How can you use `len()` to your advantage?"
   ]
  },
  {
   "cell_type": "code",
   "execution_count": 50,
   "metadata": {},
   "outputs": [],
   "source": [
    "# write the function mean(X)\n",
    "def mean(X):\n",
    "    mean_x = sum(X)/len(X) # already have the sum function. Use len to find the total lenght of the list. \n",
    "    return (mean_x)"
   ]
  },
  {
   "cell_type": "code",
   "execution_count": 51,
   "metadata": {},
   "outputs": [
    {
     "data": {
      "text/plain": [
       "9.0"
      ]
     },
     "execution_count": 51,
     "metadata": {},
     "output_type": "execute_result"
    }
   ],
   "source": [
    "# test your function on x_values\n",
    "mean(x_values)"
   ]
  },
  {
   "cell_type": "markdown",
   "metadata": {},
   "source": [
    "# Question 5"
   ]
  },
  {
   "cell_type": "markdown",
   "metadata": {},
   "source": [
    "Write a function called `cumsum()` that calculates the *cumulative* sum of a list. \n",
    "\n",
    "For instance, if your list is\n",
    "\n",
    "$$\n",
    "[1,2,3,4]\n",
    "$$\n",
    "\n",
    "then the cumulative sum is \n",
    "\n",
    "$$\n",
    "[1, 3, 6, 10]\n",
    "$$\n",
    "\n",
    "**Hint:** you will find it easier if you **pre-allocate memory** to the list that stores the cumulative sum. \n",
    "\n",
    "You can pre-allocate memory in a list by doing `[a]*n` where `a` and `n` are some numbers. \n",
    "\n",
    "For instance to make a list of zeros that is five elements long:"
   ]
  },
  {
   "cell_type": "code",
   "execution_count": 9,
   "metadata": {},
   "outputs": [
    {
     "data": {
      "text/plain": [
       "[0, 0, 0, 0, 0]"
      ]
     },
     "execution_count": 9,
     "metadata": {},
     "output_type": "execute_result"
    }
   ],
   "source": [
    "[0]*5"
   ]
  },
  {
   "cell_type": "code",
   "execution_count": 58,
   "metadata": {},
   "outputs": [],
   "source": [
    "# write the function cumsum(X)\n",
    "def cumsum(X):\n",
    "    total = [0]*len(X)\n",
    "    for i in range(len(X)):\n",
    "        if i == 0:\n",
    "            total[i] = X[i]\n",
    "        else:\n",
    "            total[i] = total[i-1] + X[i]\n",
    "    return(total)\n",
    "    "
   ]
  },
  {
   "cell_type": "code",
   "execution_count": 59,
   "metadata": {},
   "outputs": [
    {
     "data": {
      "text/plain": [
       "[0, 2, 6, 12, 20, 30, 42, 56, 72, 90]"
      ]
     },
     "execution_count": 59,
     "metadata": {},
     "output_type": "execute_result"
    }
   ],
   "source": [
    "# test your function on x_values\n",
    "cumsum(x_values)"
   ]
  },
  {
   "cell_type": "markdown",
   "metadata": {},
   "source": [
    "# Question 6\n",
    "\n",
    "Write a function called `fibonnaci_sum_evens(n)` that calculates the sum of the even values of the first $n$ values of the [Fibonnaci Sequence](https://en.wikipedia.org/wiki/Fibonacci_number). Your function should generate the sequence, and *then* sum the even elements. Test your function on $n = 10$. \n",
    "\n",
    "Hint 1: you will again find it easier if you pre-allocate the list containing the Fibonacci sequence.\n",
    "\n",
    "Hint 2: you can use the `%` operator to determine if a value is even:"
   ]
  },
  {
   "cell_type": "code",
   "execution_count": 86,
   "metadata": {},
   "outputs": [
    {
     "data": {
      "text/plain": [
       "0"
      ]
     },
     "execution_count": 86,
     "metadata": {},
     "output_type": "execute_result"
    }
   ],
   "source": [
    "# an even number divided by 2 has no remainder\n",
    "2 % 2"
   ]
  },
  {
   "cell_type": "code",
   "execution_count": 87,
   "metadata": {},
   "outputs": [
    {
     "data": {
      "text/plain": [
       "1"
      ]
     },
     "execution_count": 87,
     "metadata": {},
     "output_type": "execute_result"
    }
   ],
   "source": [
    "# an odd number divided by 2 has a remainder\n",
    "3 % 2"
   ]
  },
  {
   "cell_type": "code",
   "execution_count": 44,
   "metadata": {},
   "outputs": [],
   "source": [
    "def fibonnaci_sum_evens(n):\n",
    "    fib = [0]*n\n",
    "    for i in range(n):\n",
    "        if i == 1:\n",
    "            fib[i] = 1\n",
    "        else:\n",
    "            fib[i] = fib[i-1] + fib[i-2]\n",
    "    print(fib)\n",
    "    evens = []\n",
    "    for f in  fib:\n",
    "        if f % 2 == 0:\n",
    "            evens.append(f)\n",
    "    s = np.sum(evens)\n",
    "    return(s)\n",
    "        "
   ]
  },
  {
   "cell_type": "code",
   "execution_count": 45,
   "metadata": {},
   "outputs": [
    {
     "name": "stdout",
     "output_type": "stream",
     "text": [
      "[0, 1, 1, 2, 3, 5, 8, 13, 21, 34]\n"
     ]
    },
    {
     "data": {
      "text/plain": [
       "44"
      ]
     },
     "execution_count": 45,
     "metadata": {},
     "output_type": "execute_result"
    }
   ],
   "source": [
    "# test your function on n = 10\n",
    "fibonnaci_sum_evens(10)\n",
    "# the sum function works but I struggled to figure all of it out "
   ]
  },
  {
   "cell_type": "code",
   "execution_count": null,
   "metadata": {},
   "outputs": [],
   "source": []
  }
 ],
 "metadata": {
  "kernelspec": {
   "display_name": "Python 3",
   "language": "python",
   "name": "python3"
  },
  "language_info": {
   "codemirror_mode": {
    "name": "ipython",
    "version": 3
   },
   "file_extension": ".py",
   "mimetype": "text/x-python",
   "name": "python",
   "nbconvert_exporter": "python",
   "pygments_lexer": "ipython3",
   "version": "3.8.5"
  },
  "toc-autonumbering": false
 },
 "nbformat": 4,
 "nbformat_minor": 5
}
