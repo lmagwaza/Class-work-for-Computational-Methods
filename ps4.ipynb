{
 "cells": [
  {
   "cell_type": "markdown",
   "metadata": {},
   "source": [
    "# Luvuyo Magwaza"
   ]
  },
  {
   "cell_type": "markdown",
   "metadata": {},
   "source": [
    "# Instructions\n",
    "\n",
    "* Change \"Your Name Here\" to your name.\n",
    "* Fill in the empty chunks with your code. \n",
    "* Do not add any code chunks in your final submission besides the ones already here. \n",
    "* Use **no** additional modules other than:\n",
    "    - `numpy`\n",
    "    - `matplotlib`\n",
    "    - `statsmodels`"
   ]
  },
  {
   "cell_type": "code",
   "execution_count": 1,
   "metadata": {},
   "outputs": [],
   "source": [
    "# import modules here\n",
    "import numpy as np\n",
    "import matplotlib.pyplot as plt\n",
    "%matplotlib inline\n",
    "import statsmodels.api as sm\n",
    "from scipy import optimize"
   ]
  },
  {
   "cell_type": "markdown",
   "metadata": {},
   "source": [
    "# Question 1\n",
    "\n",
    "Consider \n",
    "\n",
    "$$\n",
    "y = f(x) = -5x^2 + 5x\n",
    "$$"
   ]
  },
  {
   "cell_type": "markdown",
   "metadata": {},
   "source": [
    "## Question 1.1\n",
    "\n",
    "Create an array `x` from -100 to 100 in steps of 0.01, then create `y` based on the $f(x)$, then plot it with labels. "
   ]
  },
  {
   "cell_type": "code",
   "execution_count": 2,
   "metadata": {},
   "outputs": [
    {
     "data": {
      "image/png": "[encoded data removed]",
      "text/plain": [
       "<Figure size 432x288 with 1 Axes>"
      ]
     },
     "metadata": {
      "needs_background": "light"
     },
     "output_type": "display_data"
    }
   ],
   "source": [
    "# your code here\n",
    "x = np.arange(-100, 100, 0.01)\n",
    "y = -5*(x**2) + 5*x\n",
    "\n",
    "plt.plot(x,y)\n",
    "plt.xlabel(\"x-values\")\n",
    "plt.ylabel(\"y-values\")\n",
    "plt.show()"
   ]
  },
  {
   "cell_type": "markdown",
   "metadata": {},
   "source": [
    "## Question 1.2 \n",
    "\n",
    "Solve for $x^*$ and typeset your solutions with $\\LaTeX$.\n",
    "\n",
    "Here are some helpful tips. When using $\\LaTeX$ in Markdown (for instance, in a Jupyter notebook), you can create equation blocks with a double `$$...$$`, and you can align equations using `\\begin{align} ... \\end{align}`.\n",
    "\n",
    "For instance, this:\n",
    "\n",
    "\n",
    "```\n",
    "\\begin{align}\n",
    "y &= f(x_1, x_2) \\\\\n",
    "  &= x_1^2 + 2x_2^3\n",
    "\\end{align}\n",
    "$$\n",
    "```\n",
    "\n",
    "produces\n",
    "\n",
    "$$\n",
    "\\begin{align}\n",
    "y &= f(x_1, x_2) \\\\\n",
    "  &= x_1^2 + 2x_2^3\n",
    "\\end{align}\n",
    "$$\n",
    "\n",
    "and \n",
    "\n",
    "```\n",
    "$$\n",
    "\\frac{\\partial y}{\\partial x_1} = 2_x_1\n",
    "$$\n",
    "```\n",
    "\n",
    "produces\n",
    "\n",
    "$$\n",
    "\\frac{\\partial y}{\\partial x_1} = 2x_1\n",
    "$$"
   ]
  },
  {
   "cell_type": "markdown",
   "metadata": {},
   "source": [
    "**[$$ \\frac{\\partial y}{\\partial x} = -10x + 5 $$\n",
    " \n",
    "\\begin{align}\n",
    "0 &= -10x + 5 \\\\\n",
    "5 &= 10x \\\\\n",
    "x^* &= 0.5\n",
    "\\end{align}\n",
    "]**"
   ]
  },
  {
   "cell_type": "markdown",
   "metadata": {},
   "source": [
    "## Question 1.3\n",
    "\n",
    "Use `optimize.minimize()` from `scipy` to numerically solve the problem."
   ]
  },
  {
   "cell_type": "code",
   "execution_count": 3,
   "metadata": {},
   "outputs": [],
   "source": [
    "# def your objective function here\n",
    "# your code here\n",
    "def objective_function(x):\n",
    "    return(-(-5*(x**2) + 5*x)) # have to multiply by -1 to make optimize.minimize work\n"
   ]
  },
  {
   "cell_type": "code",
   "execution_count": 4,
   "metadata": {},
   "outputs": [
    {
     "data": {
      "text/plain": [
       "      fun: -1.25\n",
       " hess_inv: array([[1]])\n",
       "      jac: array([8.94069672e-08])\n",
       "  message: 'Optimization terminated successfully.'\n",
       "     nfev: 6\n",
       "      nit: 1\n",
       "     njev: 3\n",
       "   status: 0\n",
       "  success: True\n",
       "        x: array([0.5])"
      ]
     },
     "execution_count": 4,
     "metadata": {},
     "output_type": "execute_result"
    }
   ],
   "source": [
    "# optimize it\n",
    "# your code here\n",
    "optimize.minimize(fun = objective_function, x0 = 0)"
   ]
  },
  {
   "cell_type": "markdown",
   "metadata": {},
   "source": [
    "## Question 1.4 \n",
    "\n",
    "Confirm the value of the objective function at the optimal point."
   ]
  },
  {
   "cell_type": "code",
   "execution_count": 5,
   "metadata": {},
   "outputs": [
    {
     "data": {
      "text/plain": [
       "1.25"
      ]
     },
     "execution_count": 5,
     "metadata": {},
     "output_type": "execute_result"
    }
   ],
   "source": [
    "# your code here\n",
    "y = -5*(0.5**2) + 5*0.5\n",
    "y"
   ]
  },
  {
   "cell_type": "markdown",
   "metadata": {},
   "source": [
    "# Question 2\n",
    "\n",
    "## Question 2.1\n",
    "\n",
    "Simulate 1,000 draws from \n",
    "\n",
    "$$\n",
    "y = 1 + 2x + \\epsilon\n",
    "$$\n",
    "\n",
    "where $x$ and $\\epsilon$ are distributed standard normal."
   ]
  },
  {
   "cell_type": "code",
   "execution_count": 6,
   "metadata": {},
   "outputs": [],
   "source": [
    "# your code here\n",
    "x = np.random.normal(loc = 0, scale = 1, size = 1000)\n",
    "epsilon = np.random.normal(loc = 0, scale = 1, size = 1000)\n",
    "y = 1 + 2*x + epsilon\n"
   ]
  },
  {
   "cell_type": "markdown",
   "metadata": {},
   "source": [
    "## Question 2.2 \n",
    "\n",
    "Code a function `loss(b)` that implements\n",
    "\n",
    "$$\n",
    "\\begin{aligned}\n",
    "L(\\beta) &= \\sum_{i=1}^n (\\hat{y} - y)^2 \\\\\n",
    "         &= \\sum_{i=1}^n (\\beta_0 + \\hat{\\beta}_1 x - y)^2\n",
    "\\end{aligned}\n",
    "$$\n",
    "\n",
    "Your function should look like this:\n",
    "\n",
    "```python\n",
    "def loss(b):\n",
    "    # predicted value given parameters `b`\n",
    "    yhat = \n",
    "    # the error\n",
    "    error = \n",
    "    # the sum of squared errors\n",
    "    sse = \n",
    "    return(sse)\n",
    "```\n",
    "\n",
    "The argument `b` should be a list or numpy array. \n",
    "\n",
    "**Hint**: Remember you can subset an array `arr` with `[]` (e.g., `arr[0]` for the first element."
   ]
  },
  {
   "cell_type": "code",
   "execution_count": 7,
   "metadata": {},
   "outputs": [],
   "source": [
    "# your code here\n",
    "def loss(b):\n",
    "    \n",
    "    # predicted value given parameters `b`\n",
    "    yhat = b[0] + b[1]*x\n",
    "    # the error\n",
    "    error = np.sum(yhat - y)\n",
    "    # the sum of squared errors\n",
    "    sse = (error)**2\n",
    "    return(sse)\n",
    "    "
   ]
  },
  {
   "cell_type": "markdown",
   "metadata": {},
   "source": [
    "## Question 2.2\n",
    "\n",
    "Check the loss when $\\beta_0 = 1$ and $\\beta_1 = 2$:"
   ]
  },
  {
   "cell_type": "code",
   "execution_count": 8,
   "metadata": {},
   "outputs": [
    {
     "data": {
      "text/plain": [
       "794.0757064742602"
      ]
     },
     "execution_count": 8,
     "metadata": {},
     "output_type": "execute_result"
    }
   ],
   "source": [
    "# your code here\n",
    "beta_values = np.array([1,2])\n",
    "sse = loss(beta_values)\n",
    "sse"
   ]
  },
  {
   "cell_type": "markdown",
   "metadata": {},
   "source": [
    "## Question 2.3\n",
    "\n",
    "Use `optimize.minimize` to optimize your loss function. \n",
    "\n",
    "**Hint**: You can pass a list or numpy array to `x0`."
   ]
  },
  {
   "cell_type": "code",
   "execution_count": 9,
   "metadata": {},
   "outputs": [
    {
     "data": {
      "text/plain": [
       "     fun: 6.224699151465266e-12\n",
       "     jac: array([ 0.01498987, -0.00021476])\n",
       " message: 'Converged (|f_n-f_(n-1)| ~= 0)'\n",
       "    nfev: 21\n",
       "     nit: 2\n",
       "  status: 1\n",
       " success: True\n",
       "       x: array([0.97196343, 2.0030011 ])"
      ]
     },
     "execution_count": 9,
     "metadata": {},
     "output_type": "execute_result"
    }
   ],
   "source": [
    "# your code here\n",
    "\n",
    "optimize.minimize(fun = loss, method = \"TNC\", x0 = beta_values)"
   ]
  },
  {
   "cell_type": "markdown",
   "metadata": {},
   "source": [
    "# Question 3\n",
    "\n",
    "Solve the same problem above (as in, use the same `x` and `y` and loss function) using gradient descent. \n",
    "\n",
    "Set: \n",
    "\n",
    "* `n_iter` to 1000\n",
    "* `alpha` or `step_size` (pick one) to 0.01\n",
    "* the starting value of `b0_hat` to -10\n",
    "* the starting value of `b1_hat` to 10\n",
    "\n",
    "Print your results -- **just the final values of the estimated parameters** -- at the end of your cell."
   ]
  },
  {
   "cell_type": "code",
   "execution_count": 10,
   "metadata": {},
   "outputs": [
    {
     "name": "stdout",
     "output_type": "stream",
     "text": [
      "0.9717536740856504 2.007240452897697\n"
     ]
    }
   ],
   "source": [
    "# your code here\n",
    "def GD(b0_hat, b1_hat, step_size, n_iter):\n",
    "    N = len(y) # use 1/N for computational purposes when finding the derivatives of b0_hat and b1_hat \n",
    "    b0_hat = b0_hat\n",
    "    b1_hat = b1_hat\n",
    "    for i in range(n_iter):\n",
    "        dLdB1 = (1/N) * np.sum(x * (b0_hat + b1_hat*x - y))  \n",
    "        dLdB0 = (1/N) * np.sum((b0_hat + b1_hat*x - y))\n",
    "        b0_hat -= step_size * dLdB0\n",
    "        b1_hat -= step_size * dLdB1\n",
    "    return(b0_hat, b1_hat)\n",
    "\n",
    "b0, b1 = GD(b0_hat = -10, b1_hat = 10, step_size = 0.01, n_iter = 1000)\n",
    "print(b0, b1)\n",
    "                         "
   ]
  }
 ],
 "metadata": {
  "kernelspec": {
   "display_name": "Python 3",
   "language": "python",
   "name": "python3"
  },
  "language_info": {
   "codemirror_mode": {
    "name": "ipython",
    "version": 3
   },
   "file_extension": ".py",
   "mimetype": "text/x-python",
   "name": "python",
   "nbconvert_exporter": "python",
   "pygments_lexer": "ipython3",
   "version": "3.8.5"
  }
 },
 "nbformat": 4,
 "nbformat_minor": 5
}
