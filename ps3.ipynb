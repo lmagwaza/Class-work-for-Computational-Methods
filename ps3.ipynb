{
 "cells": [
  {
   "cell_type": "markdown",
   "metadata": {},
   "source": [
    "# Luvuyo Magwaza"
   ]
  },
  {
   "cell_type": "markdown",
   "metadata": {},
   "source": [
    "# Instructions\n",
    "\n",
    "* Change \"Your Name Here\" to your name.\n",
    "* Fill in the empty chunks with your code. \n",
    "* Do not add any code chunks in your final submission besides the ones already here. \n",
    "* Use **no** additional modules other than:\n",
    "    - `numpy`\n",
    "    - `matplotlib`\n",
    "    - `statsmodels`"
   ]
  },
  {
   "cell_type": "code",
   "execution_count": 2,
   "metadata": {},
   "outputs": [],
   "source": [
    "# import modules here\n",
    "import numpy as np\n",
    "import matplotlib.pyplot as plt\n",
    "%matplotlib inline\n",
    "import statsmodels.api as sm"
   ]
  },
  {
   "cell_type": "markdown",
   "metadata": {},
   "source": [
    "# Question 1\n",
    "\n",
    "Simulate 10,000 observations from the following linear process, then recover the parameters using `sm.OLS()`.\n",
    "\n",
    "$$\n",
    "y = 1 + 3.5x_1 + -2x_2^2 + \\epsilon\n",
    "$$\n",
    "\n",
    "where\n",
    "\n",
    "* $x_1 \\sim N(6,4)$\n",
    "* $x_2 \\sim U(0,10)$\n",
    "* $\\epsilon \\sim N(0,1)$"
   ]
  },
  {
   "cell_type": "code",
   "execution_count": 3,
   "metadata": {},
   "outputs": [
    {
     "data": {
      "text/plain": [
       "array([ 0.99628357,  3.49721767, -1.99498511])"
      ]
     },
     "execution_count": 3,
     "metadata": {},
     "output_type": "execute_result"
    }
   ],
   "source": [
    "# your code here\n",
    "x1 = np.random.normal(loc=6, scale=2, size=10000)\n",
    "x2 = np.random.uniform(low=0, high=np.sqrt(10), size=10000)\n",
    "epsilon = np.random.normal(loc=0, scale=np.sqrt(1), size=10000)\n",
    "y = 1 + 3.5*x1 + (-2)*(x2**2) + epsilon\n",
    "\n",
    "\n",
    "x1x2 = np.array([x1,x2**2]).T # the nonlinearity is captured here\n",
    "\n",
    "\n",
    "\n",
    "\n",
    "X = sm.add_constant(x1x2)\n",
    "ols = sm.OLS(y,X).fit().params\n",
    "ols"
   ]
  },
  {
   "cell_type": "markdown",
   "metadata": {},
   "source": [
    "# Question 2\n",
    "\n",
    "In this question you will numerically solve a simple optimization problem. "
   ]
  },
  {
   "cell_type": "markdown",
   "metadata": {},
   "source": [
    "## Question 2.1 \n",
    "\n",
    "Generate a variable `x` using the function `np.arange()`. Start at 0, end at 10, and increment in steps of 0.01.\n",
    "\n",
    "Then generate `y` according to \n",
    "\n",
    "$$\n",
    "y = -x^2 + 10x\n",
    "$$\n",
    "\n",
    "and plot it."
   ]
  },
  {
   "cell_type": "code",
   "execution_count": 4,
   "metadata": {},
   "outputs": [
    {
     "data": {
      "image/png": "[encoded data removed]",
      "text/plain": [
       "<Figure size 432x288 with 1 Axes>"
      ]
     },
     "metadata": {
      "needs_background": "light"
     },
     "output_type": "display_data"
    }
   ],
   "source": [
    "# your code here\n",
    "x = np.arange(0,10,0.01)\n",
    "y = -x**2 + 10*x\n",
    "\n",
    "plt.plot(x,y)\n",
    "plt.xlabel(\"Observations\")\n",
    "plt.ylabel(\"Amount\")\n",
    "plt.show()"
   ]
  },
  {
   "cell_type": "markdown",
   "metadata": {
    "tags": []
   },
   "source": [
    "## Question 2.2\n",
    "\n",
    "Generate `dy`, an array contaning the the derivative of $y$ with respect to $x$ (i.e., $\\frac{dy}{dx}$) for all values of `x`. (It will help to first write down the derivative on paper, then code it up.)"
   ]
  },
  {
   "cell_type": "code",
   "execution_count": 5,
   "metadata": {},
   "outputs": [
    {
     "data": {
      "text/plain": [
       "array([10.  ,  9.98,  9.96,  9.94,  9.92,  9.9 ,  9.88,  9.86,  9.84,\n",
       "        9.82,  9.8 ,  9.78,  9.76,  9.74,  9.72,  9.7 ,  9.68,  9.66,\n",
       "        9.64,  9.62,  9.6 ,  9.58,  9.56,  9.54,  9.52,  9.5 ,  9.48,\n",
       "        9.46,  9.44,  9.42,  9.4 ,  9.38,  9.36,  9.34,  9.32,  9.3 ,\n",
       "        9.28,  9.26,  9.24,  9.22,  9.2 ,  9.18,  9.16,  9.14,  9.12,\n",
       "        9.1 ,  9.08,  9.06,  9.04,  9.02,  9.  ,  8.98,  8.96,  8.94,\n",
       "        8.92,  8.9 ,  8.88,  8.86,  8.84,  8.82,  8.8 ,  8.78,  8.76,\n",
       "        8.74,  8.72,  8.7 ,  8.68,  8.66,  8.64,  8.62,  8.6 ,  8.58,\n",
       "        8.56,  8.54,  8.52,  8.5 ,  8.48,  8.46,  8.44,  8.42,  8.4 ,\n",
       "        8.38,  8.36,  8.34,  8.32,  8.3 ,  8.28,  8.26,  8.24,  8.22,\n",
       "        8.2 ,  8.18,  8.16,  8.14,  8.12,  8.1 ,  8.08,  8.06,  8.04,\n",
       "        8.02,  8.  ,  7.98,  7.96,  7.94,  7.92,  7.9 ,  7.88,  7.86,\n",
       "        7.84,  7.82,  7.8 ,  7.78,  7.76,  7.74,  7.72,  7.7 ,  7.68,\n",
       "        7.66,  7.64,  7.62,  7.6 ,  7.58,  7.56,  7.54,  7.52,  7.5 ,\n",
       "        7.48,  7.46,  7.44,  7.42,  7.4 ,  7.38,  7.36,  7.34,  7.32,\n",
       "        7.3 ,  7.28,  7.26,  7.24,  7.22,  7.2 ,  7.18,  7.16,  7.14,\n",
       "        7.12,  7.1 ,  7.08,  7.06,  7.04,  7.02,  7.  ,  6.98,  6.96,\n",
       "        6.94,  6.92,  6.9 ,  6.88,  6.86,  6.84,  6.82,  6.8 ,  6.78,\n",
       "        6.76,  6.74,  6.72,  6.7 ,  6.68,  6.66,  6.64,  6.62,  6.6 ,\n",
       "        6.58,  6.56,  6.54,  6.52,  6.5 ,  6.48,  6.46,  6.44,  6.42,\n",
       "        6.4 ,  6.38,  6.36,  6.34,  6.32,  6.3 ,  6.28,  6.26,  6.24,\n",
       "        6.22,  6.2 ,  6.18,  6.16,  6.14,  6.12,  6.1 ,  6.08,  6.06,\n",
       "        6.04,  6.02,  6.  ,  5.98,  5.96,  5.94,  5.92,  5.9 ,  5.88,\n",
       "        5.86,  5.84,  5.82,  5.8 ,  5.78,  5.76,  5.74,  5.72,  5.7 ,\n",
       "        5.68,  5.66,  5.64,  5.62,  5.6 ,  5.58,  5.56,  5.54,  5.52,\n",
       "        5.5 ,  5.48,  5.46,  5.44,  5.42,  5.4 ,  5.38,  5.36,  5.34,\n",
       "        5.32,  5.3 ,  5.28,  5.26,  5.24,  5.22,  5.2 ,  5.18,  5.16,\n",
       "        5.14,  5.12,  5.1 ,  5.08,  5.06,  5.04,  5.02,  5.  ,  4.98,\n",
       "        4.96,  4.94,  4.92,  4.9 ,  4.88,  4.86,  4.84,  4.82,  4.8 ,\n",
       "        4.78,  4.76,  4.74,  4.72,  4.7 ,  4.68,  4.66,  4.64,  4.62,\n",
       "        4.6 ,  4.58,  4.56,  4.54,  4.52,  4.5 ,  4.48,  4.46,  4.44,\n",
       "        4.42,  4.4 ,  4.38,  4.36,  4.34,  4.32,  4.3 ,  4.28,  4.26,\n",
       "        4.24,  4.22,  4.2 ,  4.18,  4.16,  4.14,  4.12,  4.1 ,  4.08,\n",
       "        4.06,  4.04,  4.02,  4.  ,  3.98,  3.96,  3.94,  3.92,  3.9 ,\n",
       "        3.88,  3.86,  3.84,  3.82,  3.8 ,  3.78,  3.76,  3.74,  3.72,\n",
       "        3.7 ,  3.68,  3.66,  3.64,  3.62,  3.6 ,  3.58,  3.56,  3.54,\n",
       "        3.52,  3.5 ,  3.48,  3.46,  3.44,  3.42,  3.4 ,  3.38,  3.36,\n",
       "        3.34,  3.32,  3.3 ,  3.28,  3.26,  3.24,  3.22,  3.2 ,  3.18,\n",
       "        3.16,  3.14,  3.12,  3.1 ,  3.08,  3.06,  3.04,  3.02,  3.  ,\n",
       "        2.98,  2.96,  2.94,  2.92,  2.9 ,  2.88,  2.86,  2.84,  2.82,\n",
       "        2.8 ,  2.78,  2.76,  2.74,  2.72,  2.7 ,  2.68,  2.66,  2.64,\n",
       "        2.62,  2.6 ,  2.58,  2.56,  2.54,  2.52,  2.5 ,  2.48,  2.46,\n",
       "        2.44,  2.42,  2.4 ,  2.38,  2.36,  2.34,  2.32,  2.3 ,  2.28,\n",
       "        2.26,  2.24,  2.22,  2.2 ,  2.18,  2.16,  2.14,  2.12,  2.1 ,\n",
       "        2.08,  2.06,  2.04,  2.02,  2.  ,  1.98,  1.96,  1.94,  1.92,\n",
       "        1.9 ,  1.88,  1.86,  1.84,  1.82,  1.8 ,  1.78,  1.76,  1.74,\n",
       "        1.72,  1.7 ,  1.68,  1.66,  1.64,  1.62,  1.6 ,  1.58,  1.56,\n",
       "        1.54,  1.52,  1.5 ,  1.48,  1.46,  1.44,  1.42,  1.4 ,  1.38,\n",
       "        1.36,  1.34,  1.32,  1.3 ,  1.28,  1.26,  1.24,  1.22,  1.2 ,\n",
       "        1.18,  1.16,  1.14,  1.12,  1.1 ,  1.08,  1.06,  1.04,  1.02,\n",
       "        1.  ,  0.98,  0.96,  0.94,  0.92,  0.9 ,  0.88,  0.86,  0.84,\n",
       "        0.82,  0.8 ,  0.78,  0.76,  0.74,  0.72,  0.7 ,  0.68,  0.66,\n",
       "        0.64,  0.62,  0.6 ,  0.58,  0.56,  0.54,  0.52,  0.5 ,  0.48,\n",
       "        0.46,  0.44,  0.42,  0.4 ,  0.38,  0.36,  0.34,  0.32,  0.3 ,\n",
       "        0.28,  0.26,  0.24,  0.22,  0.2 ,  0.18,  0.16,  0.14,  0.12,\n",
       "        0.1 ,  0.08,  0.06,  0.04,  0.02,  0.  , -0.02, -0.04, -0.06,\n",
       "       -0.08, -0.1 , -0.12, -0.14, -0.16, -0.18, -0.2 , -0.22, -0.24,\n",
       "       -0.26, -0.28, -0.3 , -0.32, -0.34, -0.36, -0.38, -0.4 , -0.42,\n",
       "       -0.44, -0.46, -0.48, -0.5 , -0.52, -0.54, -0.56, -0.58, -0.6 ,\n",
       "       -0.62, -0.64, -0.66, -0.68, -0.7 , -0.72, -0.74, -0.76, -0.78,\n",
       "       -0.8 , -0.82, -0.84, -0.86, -0.88, -0.9 , -0.92, -0.94, -0.96,\n",
       "       -0.98, -1.  , -1.02, -1.04, -1.06, -1.08, -1.1 , -1.12, -1.14,\n",
       "       -1.16, -1.18, -1.2 , -1.22, -1.24, -1.26, -1.28, -1.3 , -1.32,\n",
       "       -1.34, -1.36, -1.38, -1.4 , -1.42, -1.44, -1.46, -1.48, -1.5 ,\n",
       "       -1.52, -1.54, -1.56, -1.58, -1.6 , -1.62, -1.64, -1.66, -1.68,\n",
       "       -1.7 , -1.72, -1.74, -1.76, -1.78, -1.8 , -1.82, -1.84, -1.86,\n",
       "       -1.88, -1.9 , -1.92, -1.94, -1.96, -1.98, -2.  , -2.02, -2.04,\n",
       "       -2.06, -2.08, -2.1 , -2.12, -2.14, -2.16, -2.18, -2.2 , -2.22,\n",
       "       -2.24, -2.26, -2.28, -2.3 , -2.32, -2.34, -2.36, -2.38, -2.4 ,\n",
       "       -2.42, -2.44, -2.46, -2.48, -2.5 , -2.52, -2.54, -2.56, -2.58,\n",
       "       -2.6 , -2.62, -2.64, -2.66, -2.68, -2.7 , -2.72, -2.74, -2.76,\n",
       "       -2.78, -2.8 , -2.82, -2.84, -2.86, -2.88, -2.9 , -2.92, -2.94,\n",
       "       -2.96, -2.98, -3.  , -3.02, -3.04, -3.06, -3.08, -3.1 , -3.12,\n",
       "       -3.14, -3.16, -3.18, -3.2 , -3.22, -3.24, -3.26, -3.28, -3.3 ,\n",
       "       -3.32, -3.34, -3.36, -3.38, -3.4 , -3.42, -3.44, -3.46, -3.48,\n",
       "       -3.5 , -3.52, -3.54, -3.56, -3.58, -3.6 , -3.62, -3.64, -3.66,\n",
       "       -3.68, -3.7 , -3.72, -3.74, -3.76, -3.78, -3.8 , -3.82, -3.84,\n",
       "       -3.86, -3.88, -3.9 , -3.92, -3.94, -3.96, -3.98, -4.  , -4.02,\n",
       "       -4.04, -4.06, -4.08, -4.1 , -4.12, -4.14, -4.16, -4.18, -4.2 ,\n",
       "       -4.22, -4.24, -4.26, -4.28, -4.3 , -4.32, -4.34, -4.36, -4.38,\n",
       "       -4.4 , -4.42, -4.44, -4.46, -4.48, -4.5 , -4.52, -4.54, -4.56,\n",
       "       -4.58, -4.6 , -4.62, -4.64, -4.66, -4.68, -4.7 , -4.72, -4.74,\n",
       "       -4.76, -4.78, -4.8 , -4.82, -4.84, -4.86, -4.88, -4.9 , -4.92,\n",
       "       -4.94, -4.96, -4.98, -5.  , -5.02, -5.04, -5.06, -5.08, -5.1 ,\n",
       "       -5.12, -5.14, -5.16, -5.18, -5.2 , -5.22, -5.24, -5.26, -5.28,\n",
       "       -5.3 , -5.32, -5.34, -5.36, -5.38, -5.4 , -5.42, -5.44, -5.46,\n",
       "       -5.48, -5.5 , -5.52, -5.54, -5.56, -5.58, -5.6 , -5.62, -5.64,\n",
       "       -5.66, -5.68, -5.7 , -5.72, -5.74, -5.76, -5.78, -5.8 , -5.82,\n",
       "       -5.84, -5.86, -5.88, -5.9 , -5.92, -5.94, -5.96, -5.98, -6.  ,\n",
       "       -6.02, -6.04, -6.06, -6.08, -6.1 , -6.12, -6.14, -6.16, -6.18,\n",
       "       -6.2 , -6.22, -6.24, -6.26, -6.28, -6.3 , -6.32, -6.34, -6.36,\n",
       "       -6.38, -6.4 , -6.42, -6.44, -6.46, -6.48, -6.5 , -6.52, -6.54,\n",
       "       -6.56, -6.58, -6.6 , -6.62, -6.64, -6.66, -6.68, -6.7 , -6.72,\n",
       "       -6.74, -6.76, -6.78, -6.8 , -6.82, -6.84, -6.86, -6.88, -6.9 ,\n",
       "       -6.92, -6.94, -6.96, -6.98, -7.  , -7.02, -7.04, -7.06, -7.08,\n",
       "       -7.1 , -7.12, -7.14, -7.16, -7.18, -7.2 , -7.22, -7.24, -7.26,\n",
       "       -7.28, -7.3 , -7.32, -7.34, -7.36, -7.38, -7.4 , -7.42, -7.44,\n",
       "       -7.46, -7.48, -7.5 , -7.52, -7.54, -7.56, -7.58, -7.6 , -7.62,\n",
       "       -7.64, -7.66, -7.68, -7.7 , -7.72, -7.74, -7.76, -7.78, -7.8 ,\n",
       "       -7.82, -7.84, -7.86, -7.88, -7.9 , -7.92, -7.94, -7.96, -7.98,\n",
       "       -8.  , -8.02, -8.04, -8.06, -8.08, -8.1 , -8.12, -8.14, -8.16,\n",
       "       -8.18, -8.2 , -8.22, -8.24, -8.26, -8.28, -8.3 , -8.32, -8.34,\n",
       "       -8.36, -8.38, -8.4 , -8.42, -8.44, -8.46, -8.48, -8.5 , -8.52,\n",
       "       -8.54, -8.56, -8.58, -8.6 , -8.62, -8.64, -8.66, -8.68, -8.7 ,\n",
       "       -8.72, -8.74, -8.76, -8.78, -8.8 , -8.82, -8.84, -8.86, -8.88,\n",
       "       -8.9 , -8.92, -8.94, -8.96, -8.98, -9.  , -9.02, -9.04, -9.06,\n",
       "       -9.08, -9.1 , -9.12, -9.14, -9.16, -9.18, -9.2 , -9.22, -9.24,\n",
       "       -9.26, -9.28, -9.3 , -9.32, -9.34, -9.36, -9.38, -9.4 , -9.42,\n",
       "       -9.44, -9.46, -9.48, -9.5 , -9.52, -9.54, -9.56, -9.58, -9.6 ,\n",
       "       -9.62, -9.64, -9.66, -9.68, -9.7 , -9.72, -9.74, -9.76, -9.78,\n",
       "       -9.8 , -9.82, -9.84, -9.86, -9.88, -9.9 , -9.92, -9.94, -9.96,\n",
       "       -9.98])"
      ]
     },
     "execution_count": 5,
     "metadata": {},
     "output_type": "execute_result"
    }
   ],
   "source": [
    "# your code here\n",
    "dy = (-2)*x + 10\n",
    "dy\n",
    "\n",
    "#plt.plot(x,dy) # created plot to check if dy is correct. \n",
    "#plt.show() "
   ]
  },
  {
   "cell_type": "markdown",
   "metadata": {
    "tags": []
   },
   "source": [
    "## Question 2.3\n",
    "\n",
    "Next, write a function called `sign(x)` that takes a single number and checks its sign. \n",
    "\n",
    "* If the input is negative, the function should return -1;\n",
    "* If the input is positive, the function should return 1;\n",
    "* And if the input is zero, the function should return 0. "
   ]
  },
  {
   "cell_type": "code",
   "execution_count": 6,
   "metadata": {},
   "outputs": [],
   "source": [
    "# your code here\n",
    "def sign(x):\n",
    "    if x < 0:\n",
    "        x = -1\n",
    "    elif x > 0:\n",
    "        x = 1\n",
    "    else:\n",
    "        x = 0\n",
    "    return(x)"
   ]
  },
  {
   "cell_type": "markdown",
   "metadata": {},
   "source": [
    "## Question 2.4\n",
    "\n",
    "Our goal is to find where the sign of the first derivative changes. \n",
    "\n",
    "First, create an array called `sign_change`, the same length as `dy`, that only contains `False`. \n",
    "\n",
    "Then, loop over `dy`, and set the i-th value of `sign_change` equal to the output of the test of whether the sign of the i-1 value of `dy` is equal to the i-th value of `dy`. \n",
    "\n",
    "**Hint**: use the `dtype` argument in `np.zeros()` when creating `sign_change`.\n",
    "\n",
    "**Hint**: where do you need to start the loop?"
   ]
  },
  {
   "cell_type": "code",
   "execution_count": 7,
   "metadata": {},
   "outputs": [
    {
     "data": {
      "text/plain": [
       "array([False, False, False, False, False, False, False, False, False,\n",
       "       False, False, False, False, False, False, False, False, False,\n",
       "       False, False, False, False, False, False, False, False, False,\n",
       "       False, False, False, False, False, False, False, False, False,\n",
       "       False, False, False, False, False, False, False, False, False,\n",
       "       False, False, False, False, False, False, False, False, False,\n",
       "       False, False, False, False, False, False, False, False, False,\n",
       "       False, False, False, False, False, False, False, False, False,\n",
       "       False, False, False, False, False, False, False, False, False,\n",
       "       False, False, False, False, False, False, False, False, False,\n",
       "       False, False, False, False, False, False, False, False, False,\n",
       "       False, False, False, False, False, False, False, False, False,\n",
       "       False, False, False, False, False, False, False, False, False,\n",
       "       False, False, False, False, False, False, False, False, False,\n",
       "       False, False, False, False, False, False, False, False, False,\n",
       "       False, False, False, False, False, False, False, False, False,\n",
       "       False, False, False, False, False, False, False, False, False,\n",
       "       False, False, False, False, False, False, False, False, False,\n",
       "       False, False, False, False, False, False, False, False, False,\n",
       "       False, False, False, False, False, False, False, False, False,\n",
       "       False, False, False, False, False, False, False, False, False,\n",
       "       False, False, False, False, False, False, False, False, False,\n",
       "       False, False, False, False, False, False, False, False, False,\n",
       "       False, False, False, False, False, False, False, False, False,\n",
       "       False, False, False, False, False, False, False, False, False,\n",
       "       False, False, False, False, False, False, False, False, False,\n",
       "       False, False, False, False, False, False, False, False, False,\n",
       "       False, False, False, False, False, False, False, False, False,\n",
       "       False, False, False, False, False, False, False, False, False,\n",
       "       False, False, False, False, False, False, False, False, False,\n",
       "       False, False, False, False, False, False, False, False, False,\n",
       "       False, False, False, False, False, False, False, False, False,\n",
       "       False, False, False, False, False, False, False, False, False,\n",
       "       False, False, False, False, False, False, False, False, False,\n",
       "       False, False, False, False, False, False, False, False, False,\n",
       "       False, False, False, False, False, False, False, False, False,\n",
       "       False, False, False, False, False, False, False, False, False,\n",
       "       False, False, False, False, False, False, False, False, False,\n",
       "       False, False, False, False, False, False, False, False, False,\n",
       "       False, False, False, False, False, False, False, False, False,\n",
       "       False, False, False, False, False, False, False, False, False,\n",
       "       False, False, False, False, False, False, False, False, False,\n",
       "       False, False, False, False, False, False, False, False, False,\n",
       "       False, False, False, False, False, False, False, False, False,\n",
       "       False, False, False, False, False, False, False, False, False,\n",
       "       False, False, False, False, False, False, False, False, False,\n",
       "       False, False, False, False, False, False, False, False, False,\n",
       "       False, False, False, False, False, False, False, False, False,\n",
       "       False, False, False, False, False, False, False, False, False,\n",
       "       False, False, False, False, False, False, False, False, False,\n",
       "       False, False, False, False, False, False, False, False, False,\n",
       "       False, False, False, False, False, False, False, False, False,\n",
       "       False, False, False, False, False, False, False, False, False,\n",
       "       False, False, False, False, False, False, False, False, False,\n",
       "       False, False, False, False, False, False, False, False, False,\n",
       "       False, False, False, False, False,  True,  True, False, False,\n",
       "       False, False, False, False, False, False, False, False, False,\n",
       "       False, False, False, False, False, False, False, False, False,\n",
       "       False, False, False, False, False, False, False, False, False,\n",
       "       False, False, False, False, False, False, False, False, False,\n",
       "       False, False, False, False, False, False, False, False, False,\n",
       "       False, False, False, False, False, False, False, False, False,\n",
       "       False, False, False, False, False, False, False, False, False,\n",
       "       False, False, False, False, False, False, False, False, False,\n",
       "       False, False, False, False, False, False, False, False, False,\n",
       "       False, False, False, False, False, False, False, False, False,\n",
       "       False, False, False, False, False, False, False, False, False,\n",
       "       False, False, False, False, False, False, False, False, False,\n",
       "       False, False, False, False, False, False, False, False, False,\n",
       "       False, False, False, False, False, False, False, False, False,\n",
       "       False, False, False, False, False, False, False, False, False,\n",
       "       False, False, False, False, False, False, False, False, False,\n",
       "       False, False, False, False, False, False, False, False, False,\n",
       "       False, False, False, False, False, False, False, False, False,\n",
       "       False, False, False, False, False, False, False, False, False,\n",
       "       False, False, False, False, False, False, False, False, False,\n",
       "       False, False, False, False, False, False, False, False, False,\n",
       "       False, False, False, False, False, False, False, False, False,\n",
       "       False, False, False, False, False, False, False, False, False,\n",
       "       False, False, False, False, False, False, False, False, False,\n",
       "       False, False, False, False, False, False, False, False, False,\n",
       "       False, False, False, False, False, False, False, False, False,\n",
       "       False, False, False, False, False, False, False, False, False,\n",
       "       False, False, False, False, False, False, False, False, False,\n",
       "       False, False, False, False, False, False, False, False, False,\n",
       "       False, False, False, False, False, False, False, False, False,\n",
       "       False, False, False, False, False, False, False, False, False,\n",
       "       False, False, False, False, False, False, False, False, False,\n",
       "       False, False, False, False, False, False, False, False, False,\n",
       "       False, False, False, False, False, False, False, False, False,\n",
       "       False, False, False, False, False, False, False, False, False,\n",
       "       False, False, False, False, False, False, False, False, False,\n",
       "       False, False, False, False, False, False, False, False, False,\n",
       "       False, False, False, False, False, False, False, False, False,\n",
       "       False, False, False, False, False, False, False, False, False,\n",
       "       False, False, False, False, False, False, False, False, False,\n",
       "       False, False, False, False, False, False, False, False, False,\n",
       "       False, False, False, False, False, False, False, False, False,\n",
       "       False, False, False, False, False, False, False, False, False,\n",
       "       False, False, False, False, False, False, False, False, False,\n",
       "       False, False, False, False, False, False, False, False, False,\n",
       "       False, False, False, False, False, False, False, False, False,\n",
       "       False, False, False, False, False, False, False, False, False,\n",
       "       False, False, False, False, False, False, False, False, False,\n",
       "       False, False, False, False, False, False, False, False, False,\n",
       "       False, False, False, False, False, False, False, False, False,\n",
       "       False, False, False, False, False, False, False, False, False,\n",
       "       False, False, False, False, False, False, False, False, False,\n",
       "       False, False, False, False, False, False, False, False, False,\n",
       "       False, False, False, False, False, False, False, False, False,\n",
       "       False, False, False, False, False, False, False, False, False,\n",
       "       False])"
      ]
     },
     "execution_count": 7,
     "metadata": {},
     "output_type": "execute_result"
    }
   ],
   "source": [
    "# your code here\n",
    "len(dy) # calculating the length of dy \n",
    "\n",
    "sign_change = np.zeros(1000, dtype = bool)\n",
    "\n",
    "for i in range(1,len(dy)): # loop starts at 1 to aviod \"True\" at sign_change[0]\n",
    "    if sign(dy[i-1]) != sign(dy[i]): \n",
    "        sign_change[i] = True\n",
    "    \n",
    "#type(sign_change)\n",
    "sign_change"
   ]
  },
  {
   "cell_type": "markdown",
   "metadata": {},
   "source": [
    "## Question 2.5\n",
    "\n",
    "Next, get the **index** of the `True` value(s) in `sign_change`, first with lists and a loop, then with `np.flatnonzero()`. Confirm you get the same results."
   ]
  },
  {
   "cell_type": "code",
   "execution_count": 8,
   "metadata": {},
   "outputs": [
    {
     "data": {
      "text/plain": [
       "[500, 501]"
      ]
     },
     "execution_count": 8,
     "metadata": {},
     "output_type": "execute_result"
    }
   ],
   "source": [
    "# your code here\n",
    "# sign_change with loop\n",
    "index = []\n",
    "for i in range(len(sign_change)):\n",
    "    if sign_change[i] == True:\n",
    "        index.append(i) # if sign_change[i] == True, return the element value and add it to index list. \n",
    "         \n",
    "sign_change_index = index\n",
    "sign_change_index"
   ]
  },
  {
   "cell_type": "code",
   "execution_count": 9,
   "metadata": {},
   "outputs": [
    {
     "data": {
      "text/plain": [
       "True"
      ]
     },
     "execution_count": 9,
     "metadata": {},
     "output_type": "execute_result"
    }
   ],
   "source": [
    "# your code here\n",
    "# sign change with np.flatnonzero\n",
    "index2 = np.flatnonzero(sign_change) \n",
    "\n",
    "np.array_equal(sign_change_index, index2) # checking if the two indices are the same. "
   ]
  },
  {
   "cell_type": "markdown",
   "metadata": {},
   "source": [
    "## Question 2.6 \n",
    "\n",
    "Use `sign_change_index` to find the value of `x` that corresponds to the sign change(s) in `dy`."
   ]
  },
  {
   "cell_type": "code",
   "execution_count": 10,
   "metadata": {},
   "outputs": [
    {
     "data": {
      "text/plain": [
       "array([5.  , 5.01])"
      ]
     },
     "execution_count": 10,
     "metadata": {},
     "output_type": "execute_result"
    }
   ],
   "source": [
    "# your code here\n",
    "sign_change_index\n",
    "x[500:502] \n",
    "# correct value is 5 "
   ]
  },
  {
   "cell_type": "markdown",
   "metadata": {},
   "source": [
    "## Question 2.7\n",
    "\n",
    "Plot `y`, `dy`, a black dotted horizontal line at `y=0`, a black dotted vertical line at `sign_change_index`, and a single point where `dy` crosses zero. Include axes labels and a legend.\n",
    "\n",
    "**Hint**: if there are multiple values in `sign_change_index`, which one do you need? "
   ]
  },
  {
   "cell_type": "code",
   "execution_count": 11,
   "metadata": {},
   "outputs": [
    {
     "data": {
      "image/png": "[encoded data removed]",
      "text/plain": [
       "<Figure size 432x288 with 1 Axes>"
      ]
     },
     "metadata": {
      "needs_background": "light"
     },
     "output_type": "display_data"
    }
   ],
   "source": [
    "# your code here\n",
    "plt.plot(x,y, label = \"y-function\")\n",
    "plt.plot(x,dy, label = \"dy-function\")\n",
    "plt.axhline(y=0, linestyle = '-.', color = \"purple\", label = \"horizontal line\")\n",
    "plt.axvline(x=5, linestyle = '-.', label = \"vertical line\")\n",
    "plt.plot(5,0, marker =\"o\", color=\"black\", label = \"intersection\")\n",
    "plt.xlabel(\"Observations\")\n",
    "plt.ylabel(\"f(x)\")\n",
    "plt.legend(fontsize = 7)\n",
    "plt.show()\n"
   ]
  },
  {
   "cell_type": "markdown",
   "metadata": {},
   "source": [
    "## Question 2.8 \n",
    "\n",
    "Interpret the plot in a couple sentences."
   ]
  },
  {
   "cell_type": "markdown",
   "metadata": {},
   "source": [
    "[The plot shows the function  y  and its derivative function (dy). On the plot, we can see that the maximum point of the function is (x = 5,y = 25). Using the derivative function, we can confirm where the maximum lies. From the derivative function we can see that when dy = 0 (a global maximum point), the x value is 5. By plugging 5 back into the y function, we find the maximum is 25. The plot shows the relationship between the two functions.]"
   ]
  },
  {
   "cell_type": "markdown",
   "metadata": {},
   "source": [
    "# Question 3\n",
    "\n",
    "In Question 2.2 you solved for the derivative analytically and then transcribed the solution to code.\n",
    "\n",
    "But what if the objective function were more challenging and you wanted to write a program that could approximate the first derivative? \n",
    "\n",
    "Recall the derivative of the function $f(x)$ at some point $a$ is \n",
    "\n",
    "$$\n",
    "f'(a) = \\text{lim}_{h \\rightarrow 0}\\frac{f(a + h) - f(a)}{h}\n",
    "$$\n",
    "\n",
    "which can be approximated with \n",
    "\n",
    "$$\n",
    "f'(a) = \\frac{f(a + h) - f(a)}{h}\n",
    "$$\n",
    "\n",
    "when $h$ is sufficiently small. This approach to numerical differentiation is called [finite differences](https://en.wikipedia.org/wiki/Finite_difference). The following questions ask you to implement it. "
   ]
  },
  {
   "cell_type": "markdown",
   "metadata": {},
   "source": [
    "## Question 3.1\n",
    "\n",
    "First write a function `f(x)` that implements\n",
    "\n",
    "$$\n",
    "y = f(x) = -x^2 + 10x\n",
    "$$\n",
    "\n",
    "and returns `y`."
   ]
  },
  {
   "cell_type": "code",
   "execution_count": 12,
   "metadata": {},
   "outputs": [],
   "source": [
    "# your code here\n",
    "def f(x):\n",
    "    y = -(x**2) + 10*x          \n",
    "    return(y)"
   ]
  },
  {
   "cell_type": "markdown",
   "metadata": {},
   "source": [
    "## Question 3.2\n",
    "\n",
    "Next define a function `fd(fun, x, h = 0.01)` that implements finite differences and returns `dx`. Some notes about the arguments:\n",
    "\n",
    "* `fun` is a function\n",
    "* `x` is some array of values passed to `fun`\n",
    "* `h` is a small number "
   ]
  },
  {
   "cell_type": "code",
   "execution_count": 13,
   "metadata": {},
   "outputs": [],
   "source": [
    "# your code here\n",
    "def fd(fun, x, h = 0.01):\n",
    "    for i in range(len(x)):\n",
    "        dx = (fun(x+h) - fun(x))/h\n",
    "    return dx\n"
   ]
  },
  {
   "cell_type": "markdown",
   "metadata": {},
   "source": [
    "## Question 3.3 \n",
    "\n",
    "Test your function `fd()` on `f()` by creating an array `dy2`."
   ]
  },
  {
   "cell_type": "code",
   "execution_count": 15,
   "metadata": {},
   "outputs": [
    {
     "name": "stdout",
     "output_type": "stream",
     "text": [
      "[ 9.99  9.97  9.95  9.93  9.91  9.89  9.87  9.85  9.83  9.81  9.79  9.77\n",
      "  9.75  9.73  9.71  9.69  9.67  9.65  9.63  9.61  9.59  9.57  9.55  9.53\n",
      "  9.51  9.49  9.47  9.45  9.43  9.41  9.39  9.37  9.35  9.33  9.31  9.29\n",
      "  9.27  9.25  9.23  9.21  9.19  9.17  9.15  9.13  9.11  9.09  9.07  9.05\n",
      "  9.03  9.01  8.99  8.97  8.95  8.93  8.91  8.89  8.87  8.85  8.83  8.81\n",
      "  8.79  8.77  8.75  8.73  8.71  8.69  8.67  8.65  8.63  8.61  8.59  8.57\n",
      "  8.55  8.53  8.51  8.49  8.47  8.45  8.43  8.41  8.39  8.37  8.35  8.33\n",
      "  8.31  8.29  8.27  8.25  8.23  8.21  8.19  8.17  8.15  8.13  8.11  8.09\n",
      "  8.07  8.05  8.03  8.01  7.99  7.97  7.95  7.93  7.91  7.89  7.87  7.85\n",
      "  7.83  7.81  7.79  7.77  7.75  7.73  7.71  7.69  7.67  7.65  7.63  7.61\n",
      "  7.59  7.57  7.55  7.53  7.51  7.49  7.47  7.45  7.43  7.41  7.39  7.37\n",
      "  7.35  7.33  7.31  7.29  7.27  7.25  7.23  7.21  7.19  7.17  7.15  7.13\n",
      "  7.11  7.09  7.07  7.05  7.03  7.01  6.99  6.97  6.95  6.93  6.91  6.89\n",
      "  6.87  6.85  6.83  6.81  6.79  6.77  6.75  6.73  6.71  6.69  6.67  6.65\n",
      "  6.63  6.61  6.59  6.57  6.55  6.53  6.51  6.49  6.47  6.45  6.43  6.41\n",
      "  6.39  6.37  6.35  6.33  6.31  6.29  6.27  6.25  6.23  6.21  6.19  6.17\n",
      "  6.15  6.13  6.11  6.09  6.07  6.05  6.03  6.01  5.99  5.97  5.95  5.93\n",
      "  5.91  5.89  5.87  5.85  5.83  5.81  5.79  5.77  5.75  5.73  5.71  5.69\n",
      "  5.67  5.65  5.63  5.61  5.59  5.57  5.55  5.53  5.51  5.49  5.47  5.45\n",
      "  5.43  5.41  5.39  5.37  5.35  5.33  5.31  5.29  5.27  5.25  5.23  5.21\n",
      "  5.19  5.17  5.15  5.13  5.11  5.09  5.07  5.05  5.03  5.01  4.99  4.97\n",
      "  4.95  4.93  4.91  4.89  4.87  4.85  4.83  4.81  4.79  4.77  4.75  4.73\n",
      "  4.71  4.69  4.67  4.65  4.63  4.61  4.59  4.57  4.55  4.53  4.51  4.49\n",
      "  4.47  4.45  4.43  4.41  4.39  4.37  4.35  4.33  4.31  4.29  4.27  4.25\n",
      "  4.23  4.21  4.19  4.17  4.15  4.13  4.11  4.09  4.07  4.05  4.03  4.01\n",
      "  3.99  3.97  3.95  3.93  3.91  3.89  3.87  3.85  3.83  3.81  3.79  3.77\n",
      "  3.75  3.73  3.71  3.69  3.67  3.65  3.63  3.61  3.59  3.57  3.55  3.53\n",
      "  3.51  3.49  3.47  3.45  3.43  3.41  3.39  3.37  3.35  3.33  3.31  3.29\n",
      "  3.27  3.25  3.23  3.21  3.19  3.17  3.15  3.13  3.11  3.09  3.07  3.05\n",
      "  3.03  3.01  2.99  2.97  2.95  2.93  2.91  2.89  2.87  2.85  2.83  2.81\n",
      "  2.79  2.77  2.75  2.73  2.71  2.69  2.67  2.65  2.63  2.61  2.59  2.57\n",
      "  2.55  2.53  2.51  2.49  2.47  2.45  2.43  2.41  2.39  2.37  2.35  2.33\n",
      "  2.31  2.29  2.27  2.25  2.23  2.21  2.19  2.17  2.15  2.13  2.11  2.09\n",
      "  2.07  2.05  2.03  2.01  1.99  1.97  1.95  1.93  1.91  1.89  1.87  1.85\n",
      "  1.83  1.81  1.79  1.77  1.75  1.73  1.71  1.69  1.67  1.65  1.63  1.61\n",
      "  1.59  1.57  1.55  1.53  1.51  1.49  1.47  1.45  1.43  1.41  1.39  1.37\n",
      "  1.35  1.33  1.31  1.29  1.27  1.25  1.23  1.21  1.19  1.17  1.15  1.13\n",
      "  1.11  1.09  1.07  1.05  1.03  1.01  0.99  0.97  0.95  0.93  0.91  0.89\n",
      "  0.87  0.85  0.83  0.81  0.79  0.77  0.75  0.73  0.71  0.69  0.67  0.65\n",
      "  0.63  0.61  0.59  0.57  0.55  0.53  0.51  0.49  0.47  0.45  0.43  0.41\n",
      "  0.39  0.37  0.35  0.33  0.31  0.29  0.27  0.25  0.23  0.21  0.19  0.17\n",
      "  0.15  0.13  0.11  0.09  0.07  0.05  0.03  0.01 -0.01 -0.03 -0.05 -0.07\n",
      " -0.09 -0.11 -0.13 -0.15 -0.17 -0.19 -0.21 -0.23 -0.25 -0.27 -0.29 -0.31\n",
      " -0.33 -0.35 -0.37 -0.39 -0.41 -0.43 -0.45 -0.47 -0.49 -0.51 -0.53 -0.55\n",
      " -0.57 -0.59 -0.61 -0.63 -0.65 -0.67 -0.69 -0.71 -0.73 -0.75 -0.77 -0.79\n",
      " -0.81 -0.83 -0.85 -0.87 -0.89 -0.91 -0.93 -0.95 -0.97 -0.99 -1.01 -1.03\n",
      " -1.05 -1.07 -1.09 -1.11 -1.13 -1.15 -1.17 -1.19 -1.21 -1.23 -1.25 -1.27\n",
      " -1.29 -1.31 -1.33 -1.35 -1.37 -1.39 -1.41 -1.43 -1.45 -1.47 -1.49 -1.51\n",
      " -1.53 -1.55 -1.57 -1.59 -1.61 -1.63 -1.65 -1.67 -1.69 -1.71 -1.73 -1.75\n",
      " -1.77 -1.79 -1.81 -1.83 -1.85 -1.87 -1.89 -1.91 -1.93 -1.95 -1.97 -1.99\n",
      " -2.01 -2.03 -2.05 -2.07 -2.09 -2.11 -2.13 -2.15 -2.17 -2.19 -2.21 -2.23\n",
      " -2.25 -2.27 -2.29 -2.31 -2.33 -2.35 -2.37 -2.39 -2.41 -2.43 -2.45 -2.47\n",
      " -2.49 -2.51 -2.53 -2.55 -2.57 -2.59 -2.61 -2.63 -2.65 -2.67 -2.69 -2.71\n",
      " -2.73 -2.75 -2.77 -2.79 -2.81 -2.83 -2.85 -2.87 -2.89 -2.91 -2.93 -2.95\n",
      " -2.97 -2.99 -3.01 -3.03 -3.05 -3.07 -3.09 -3.11 -3.13 -3.15 -3.17 -3.19\n",
      " -3.21 -3.23 -3.25 -3.27 -3.29 -3.31 -3.33 -3.35 -3.37 -3.39 -3.41 -3.43\n",
      " -3.45 -3.47 -3.49 -3.51 -3.53 -3.55 -3.57 -3.59 -3.61 -3.63 -3.65 -3.67\n",
      " -3.69 -3.71 -3.73 -3.75 -3.77 -3.79 -3.81 -3.83 -3.85 -3.87 -3.89 -3.91\n",
      " -3.93 -3.95 -3.97 -3.99 -4.01 -4.03 -4.05 -4.07 -4.09 -4.11 -4.13 -4.15\n",
      " -4.17 -4.19 -4.21 -4.23 -4.25 -4.27 -4.29 -4.31 -4.33 -4.35 -4.37 -4.39\n",
      " -4.41 -4.43 -4.45 -4.47 -4.49 -4.51 -4.53 -4.55 -4.57 -4.59 -4.61 -4.63\n",
      " -4.65 -4.67 -4.69 -4.71 -4.73 -4.75 -4.77 -4.79 -4.81 -4.83 -4.85 -4.87\n",
      " -4.89 -4.91 -4.93 -4.95 -4.97 -4.99 -5.01 -5.03 -5.05 -5.07 -5.09 -5.11\n",
      " -5.13 -5.15 -5.17 -5.19 -5.21 -5.23 -5.25 -5.27 -5.29 -5.31 -5.33 -5.35\n",
      " -5.37 -5.39 -5.41 -5.43 -5.45 -5.47 -5.49 -5.51 -5.53 -5.55 -5.57 -5.59\n",
      " -5.61 -5.63 -5.65 -5.67 -5.69 -5.71 -5.73 -5.75 -5.77 -5.79 -5.81 -5.83\n",
      " -5.85 -5.87 -5.89 -5.91 -5.93 -5.95 -5.97 -5.99 -6.01 -6.03 -6.05 -6.07\n",
      " -6.09 -6.11 -6.13 -6.15 -6.17 -6.19 -6.21 -6.23 -6.25 -6.27 -6.29 -6.31\n",
      " -6.33 -6.35 -6.37 -6.39 -6.41 -6.43 -6.45 -6.47 -6.49 -6.51 -6.53 -6.55\n",
      " -6.57 -6.59 -6.61 -6.63 -6.65 -6.67 -6.69 -6.71 -6.73 -6.75 -6.77 -6.79\n",
      " -6.81 -6.83 -6.85 -6.87 -6.89 -6.91 -6.93 -6.95 -6.97 -6.99 -7.01 -7.03\n",
      " -7.05 -7.07 -7.09 -7.11 -7.13 -7.15 -7.17 -7.19 -7.21 -7.23 -7.25 -7.27\n",
      " -7.29 -7.31 -7.33 -7.35 -7.37 -7.39 -7.41 -7.43 -7.45 -7.47 -7.49 -7.51\n",
      " -7.53 -7.55 -7.57 -7.59 -7.61 -7.63 -7.65 -7.67 -7.69 -7.71 -7.73 -7.75\n",
      " -7.77 -7.79 -7.81 -7.83 -7.85 -7.87 -7.89 -7.91 -7.93 -7.95 -7.97 -7.99\n",
      " -8.01 -8.03 -8.05 -8.07 -8.09 -8.11 -8.13 -8.15 -8.17 -8.19 -8.21 -8.23\n",
      " -8.25 -8.27 -8.29 -8.31 -8.33 -8.35 -8.37 -8.39 -8.41 -8.43 -8.45 -8.47\n",
      " -8.49 -8.51 -8.53 -8.55 -8.57 -8.59 -8.61 -8.63 -8.65 -8.67 -8.69 -8.71\n",
      " -8.73 -8.75 -8.77 -8.79 -8.81 -8.83 -8.85 -8.87 -8.89 -8.91 -8.93 -8.95\n",
      " -8.97 -8.99 -9.01 -9.03 -9.05 -9.07 -9.09 -9.11 -9.13 -9.15 -9.17 -9.19\n",
      " -9.21 -9.23 -9.25 -9.27 -9.29 -9.31 -9.33 -9.35 -9.37 -9.39 -9.41 -9.43\n",
      " -9.45 -9.47 -9.49 -9.51 -9.53 -9.55 -9.57 -9.59 -9.61 -9.63 -9.65 -9.67\n",
      " -9.69 -9.71 -9.73 -9.75 -9.77 -9.79 -9.81 -9.83 -9.85 -9.87 -9.89 -9.91\n",
      " -9.93 -9.95 -9.97 -9.99]\n"
     ]
    }
   ],
   "source": [
    "# your code here\n",
    "\n",
    "new_x = np.arange(0, 10, 0.01)\n",
    "dy2 = fd(fun = f, x = new_x, h = 0.01)\n",
    "print(dy2)"
   ]
  },
  {
   "cell_type": "markdown",
   "metadata": {},
   "source": [
    "## Question 3.4\n",
    "\n",
    "Re-use the appropriate code from Questions 2.3 - 2.6 to find the value of `x` that corresponds to the where the derivative `dy2` crosses zero. You should get a similar answer as before, but the number(s) may not exactly line up."
   ]
  },
  {
   "cell_type": "code",
   "execution_count": 16,
   "metadata": {},
   "outputs": [
    {
     "data": {
      "text/plain": [
       "array([500, 501])"
      ]
     },
     "execution_count": 16,
     "metadata": {},
     "output_type": "execute_result"
    }
   ],
   "source": [
    "# your code here   \n",
    "len(dy2)\n",
    "\n",
    "sign_change = np.zeros(1000, dtype = bool)\n",
    "\n",
    "for i in range(1,len(dy)):\n",
    "    if sign(dy[i-1]) != sign(dy[i]):\n",
    "        sign_change[i] = True\n",
    "\n",
    "index3 = np.flatnonzero(sign_change)\n",
    "\n",
    "index3\n"
   ]
  }
 ],
 "metadata": {
  "kernelspec": {
   "display_name": "Python 3",
   "language": "python",
   "name": "python3"
  },
  "language_info": {
   "codemirror_mode": {
    "name": "ipython",
    "version": 3
   },
   "file_extension": ".py",
   "mimetype": "text/x-python",
   "name": "python",
   "nbconvert_exporter": "python",
   "pygments_lexer": "ipython3",
   "version": "3.8.5"
  }
 },
 "nbformat": 4,
 "nbformat_minor": 5
}
